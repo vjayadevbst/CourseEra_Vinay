{
 "cells": [
  {
   "cell_type": "markdown",
   "id": "d3adf098",
   "metadata": {},
   "source": [
    "                                \n",
    "# Data Science Tools and Ecosystem"
   ]
  },
  {
   "cell_type": "markdown",
   "id": "1bfa4c28",
   "metadata": {},
   "source": [
    "### In this notebook, Data Science Tools and Ecosystem are summarized."
   ]
  },
  {
   "cell_type": "markdown",
   "id": "e3c0d193",
   "metadata": {},
   "source": [
    "### Some of the popular languages that Data Scientists use are:\n",
    "1. Python\n",
    "2. R\n",
    "3. Apache Spark"
   ]
  },
  {
   "cell_type": "markdown",
   "id": "594ac0e3",
   "metadata": {},
   "source": [
    "### Some of the commonly used libraries used by Data Scientists include:\n",
    "NumPy – For numerical computations and handling multi-dimensional arrays.\n",
    "\n",
    "1. Pandas – For data manipulation and analysis, especially tabular data.\n",
    "\n",
    "2. Matplotlib – For basic data visualization.\n",
    "\n",
    "3. Seaborn – For statistical data visualization, built on top of Matplotlib.\n",
    "\n"
   ]
  },
  {
   "cell_type": "markdown",
   "id": "2a91e7b1",
   "metadata": {},
   "source": [
    "|Data Science Tools|\n",
    "|------------------|\n",
    "|Jupyter Notebook|\n",
    "|RStudio|\n",
    "|Apache Zeppelin|"
   ]
  },
  {
   "cell_type": "markdown",
   "id": "07c40070",
   "metadata": {},
   "source": [
    "### Below are a few examples of evaluating arithmetic expressions in Python\n",
    "###### Addition\n",
    "###### result1 = 10 + 5\n",
    "###### print(\"10 + 5 =\", result1)   Output: 15\n",
    "###### \n",
    "###### Subtraction\n",
    "###### result2 = 10 - 3\n",
    "###### print(\"10 - 3 =\", result2)   Output: 7\n",
    "###### \n",
    "###### Multiplication\n",
    "###### result3 = 4 * 7\n",
    "###### print(\"4 * 7 =\", result3)   Output: 28"
   ]
  },
  {
   "cell_type": "code",
   "execution_count": 3,
   "id": "84edd497",
   "metadata": {},
   "outputs": [
    {
     "data": {
      "text/plain": [
       "17"
      ]
     },
     "execution_count": 3,
     "metadata": {},
     "output_type": "execute_result"
    }
   ],
   "source": [
    "#### This a simple arithmetic expression to mutiply then add integers\n",
    "(3*4)+5"
   ]
  },
  {
   "cell_type": "code",
   "execution_count": 4,
   "id": "b0086bbb",
   "metadata": {},
   "outputs": [
    {
     "name": "stdout",
     "output_type": "stream",
     "text": [
      "200 minutes is equal to 3.3333333333333335 hours\n"
     ]
    }
   ],
   "source": [
    "# This will convert 200 minutes to hours by diving by 60.\n",
    "hours = 200 / 60\n",
    "print(\"200 minutes is equal to\", hours, \"hours\")"
   ]
  },
  {
   "cell_type": "markdown",
   "id": "8aa698bb",
   "metadata": {},
   "source": [
    "**Objectives:**\n",
    "\n",
    "- Python\n",
    "- R\n",
    "- Spark"
   ]
  },
  {
   "cell_type": "markdown",
   "id": "704174d7",
   "metadata": {},
   "source": [
    "## Author: \n",
    "### Vinay Jayadev"
   ]
  },
  {
   "cell_type": "markdown",
   "id": "e759e5dc",
   "metadata": {},
   "source": []
  }
 ],
 "metadata": {
  "kernelspec": {
   "display_name": "Python 3",
   "language": "python",
   "name": "python3"
  },
  "language_info": {
   "codemirror_mode": {
    "name": "ipython",
    "version": 3
   },
   "file_extension": ".py",
   "mimetype": "text/x-python",
   "name": "python",
   "nbconvert_exporter": "python",
   "pygments_lexer": "ipython3",
   "version": "3.13.3"
  }
 },
 "nbformat": 4,
 "nbformat_minor": 5
}
